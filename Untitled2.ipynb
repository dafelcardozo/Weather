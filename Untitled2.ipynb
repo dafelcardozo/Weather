{
 "cells": [
  {
   "cell_type": "code",
   "execution_count": 1,
   "metadata": {},
   "outputs": [],
   "source": [
    "from django.db.models import Case, IntegerField, Value, When"
   ]
  },
  {
   "cell_type": "code",
   "execution_count": 2,
   "metadata": {},
   "outputs": [],
   "source": [
    "import json"
   ]
  },
  {
   "cell_type": "code",
   "execution_count": 3,
   "metadata": {},
   "outputs": [],
   "source": [
    "cursor = Measurement.objects.mongo_aggregate([{\n",
    "    '$bucket':{\n",
    "        'groupBy': '$avg_wind_direction_9am',\n",
    "        'boundaries': [ 0, 45, 90, 135, 180, 225, 270, 315, 360  ],\n",
    "        'default':  -1,\n",
    "        'output': {\n",
    "            'outputN': { '$sum': 1 }\n",
    "        }\n",
    "    }\n",
    "}])"
   ]
  },
  {
   "cell_type": "code",
   "execution_count": 4,
   "metadata": {},
   "outputs": [],
   "source": [
    "result = [d for d in cursor]\n"
   ]
  },
  {
   "cell_type": "code",
   "execution_count": 16,
   "metadata": {},
   "outputs": [
    {
     "data": {
      "text/plain": [
       "{-1: 4, 0: 62, 45: 282, 90: 98, 135: 246, 180: 314, 225: 61, 270: 23, 315: 5}"
      ]
     },
     "execution_count": 16,
     "metadata": {},
     "output_type": "execute_result"
    }
   ],
   "source": [
    "{r['_id']:r['outputN'] for r in result}"
   ]
  },
  {
   "cell_type": "code",
   "execution_count": 9,
   "metadata": {},
   "outputs": [
    {
     "data": {
      "text/plain": [
       "'{\"_id\": [{\"_id\": -1, \"outputN\": 4}, {\"_id\": 0, \"outputN\": 62}, {\"_id\": 45, \"outputN\": 282}, {\"_id\": 90, \"outputN\": 98}, {\"_id\": 135, \"outputN\": 246}, {\"_id\": 180, \"outputN\": 314}, {\"_id\": 225, \"outputN\": 61}, {\"_id\": 270, \"outputN\": 23}, {\"_id\": 315, \"outputN\": 5}]}'"
      ]
     },
     "execution_count": 9,
     "metadata": {},
     "output_type": "execute_result"
    }
   ],
   "source": [
    "json.dumps(r)\n"
   ]
  }
 ],
 "metadata": {
  "kernelspec": {
   "display_name": "Django Shell-Plus",
   "language": "python",
   "name": "django_extensions"
  },
  "language_info": {
   "codemirror_mode": {
    "name": "ipython",
    "version": 3
   },
   "file_extension": ".py",
   "mimetype": "text/x-python",
   "name": "python",
   "nbconvert_exporter": "python",
   "pygments_lexer": "ipython3",
   "version": "3.8.5"
  }
 },
 "nbformat": 4,
 "nbformat_minor": 4
}
