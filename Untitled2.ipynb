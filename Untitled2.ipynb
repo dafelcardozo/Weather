{
 "cells": [
  {
   "cell_type": "code",
   "execution_count": 2,
   "metadata": {},
   "outputs": [],
   "source": [
    "from django.db.models import Case, IntegerField, Value, When\n",
    "from dateutil.relativedelta import relativedelta"
   ]
  },
  {
   "cell_type": "code",
   "execution_count": 3,
   "metadata": {},
   "outputs": [],
   "source": [
    "import json\n",
    "import calendar"
   ]
  },
  {
   "cell_type": "code",
   "execution_count": 57,
   "metadata": {},
   "outputs": [],
   "source": [
    "month = 10\n",
    "year = 2011\n",
    "cursor = Measurement.objects.mongo_aggregate([\n",
    "    {\n",
    "      '$project': {\n",
    "          'year': {\n",
    "              '$year': \"$date\",\n",
    "          },\n",
    "          'month': {\n",
    "              '$month': '$date'\n",
    "          },\n",
    "          'avg_wind_direction_9am': '$avg_wind_direction_9am'\n",
    "      }\n",
    "   },\n",
    "    {\n",
    "         '$match': {\"year\": year, 'month': month}\n",
    "    },\n",
    "    {\n",
    "    '$bucket':{\n",
    "        'groupBy': '$avg_wind_direction_9am',\n",
    "        'boundaries': [n*45 - 3*45/2 for n in range(1, 9)],\n",
    "        'default':  -1000,\n",
    "        'output': {\n",
    "            'outputN': { '$sum': 1 }\n",
    "        }\n",
    "    }\n",
    "}])"
   ]
  },
  {
   "cell_type": "code",
   "execution_count": 58,
   "metadata": {},
   "outputs": [],
   "source": [
    "result = list(cursor)"
   ]
  },
  {
   "cell_type": "code",
   "execution_count": 59,
   "metadata": {},
   "outputs": [
    {
     "data": {
      "text/plain": [
       "[OrderedDict([('_id', 22.5), ('outputN', 5)]),\n",
       " OrderedDict([('_id', 67.5), ('outputN', 3)]),\n",
       " OrderedDict([('_id', 112.5), ('outputN', 3)]),\n",
       " OrderedDict([('_id', 157.5), ('outputN', 16)]),\n",
       " OrderedDict([('_id', 202.5), ('outputN', 4)])]"
      ]
     },
     "execution_count": 59,
     "metadata": {},
     "output_type": "execute_result"
    }
   ],
   "source": [
    "result"
   ]
  },
  {
   "cell_type": "code",
   "execution_count": 60,
   "metadata": {},
   "outputs": [],
   "source": [
    "result = {r['_id']:r['outputN'] for r in result}"
   ]
  },
  {
   "cell_type": "code",
   "execution_count": 61,
   "metadata": {},
   "outputs": [
    {
     "data": {
      "text/plain": [
       "31"
      ]
     },
     "execution_count": 61,
     "metadata": {},
     "output_type": "execute_result"
    }
   ],
   "source": [
    "sum(result.values())"
   ]
  },
  {
   "cell_type": "code",
   "execution_count": 7,
   "metadata": {},
   "outputs": [
    {
     "data": {
      "text/plain": [
       "[-22.5, 22.5, 67.5, 112.5, 157.5, 202.5, 247.5, 292.5]"
      ]
     },
     "execution_count": 7,
     "metadata": {},
     "output_type": "execute_result"
    }
   ],
   "source": [
    "[n*45 - 3*45/2 for n in range(1, 9)]"
   ]
  },
  {
   "cell_type": "code",
   "execution_count": 4,
   "metadata": {},
   "outputs": [],
   "source": [
    "from datetime import date, datetime, timedelta"
   ]
  },
  {
   "cell_type": "code",
   "execution_count": 9,
   "metadata": {},
   "outputs": [
    {
     "data": {
      "text/plain": [
       "datetime.timedelta(days=1)"
      ]
     },
     "execution_count": 9,
     "metadata": {},
     "output_type": "execute_result"
    }
   ],
   "source": [
    "timedelta(days=1)"
   ]
  },
  {
   "cell_type": "code",
   "execution_count": 10,
   "metadata": {},
   "outputs": [
    {
     "data": {
      "text/plain": [
       "datetime.date(2011, 9, 15)"
      ]
     },
     "execution_count": 10,
     "metadata": {},
     "output_type": "execute_result"
    }
   ],
   "source": [
    "date(2011, 9, 14) + timedelta(days=1)"
   ]
  },
  {
   "cell_type": "code",
   "execution_count": 11,
   "metadata": {},
   "outputs": [],
   "source": [
    "cursor = Measurement.objects.mongo_aggregate([{\n",
    "    '$group': {\n",
    "        '_id': {'month': {'$month': \"$date\"}, 'year': {'$year':'$date'}},\n",
    "        'count_measurements': {'$sum': 1}\n",
    "    }\n",
    "}])"
   ]
  },
  {
   "cell_type": "code",
   "execution_count": 12,
   "metadata": {},
   "outputs": [],
   "source": [
    "months = [(m['_id']['month'], m['_id']['year']) for m in cursor]"
   ]
  },
  {
   "cell_type": "code",
   "execution_count": 13,
   "metadata": {},
   "outputs": [
    {
     "data": {
      "text/plain": [
       "[(2014, 9, 'September 2014'),\n",
       " (2014, 8, 'August 2014'),\n",
       " (2014, 7, 'July 2014'),\n",
       " (2014, 6, 'June 2014'),\n",
       " (2014, 3, 'March 2014'),\n",
       " (2014, 2, 'February 2014'),\n",
       " (2014, 1, 'January 2014'),\n",
       " (2013, 12, 'December 2013'),\n",
       " (2013, 11, 'November 2013'),\n",
       " (2013, 9, 'September 2013'),\n",
       " (2013, 8, 'August 2013'),\n",
       " (2013, 7, 'July 2013'),\n",
       " (2012, 3, 'March 2012'),\n",
       " (2013, 6, 'June 2013'),\n",
       " (2012, 11, 'November 2012'),\n",
       " (2013, 10, 'October 2013'),\n",
       " (2013, 2, 'February 2013'),\n",
       " (2013, 3, 'March 2013'),\n",
       " (2014, 5, 'May 2014'),\n",
       " (2012, 6, 'June 2012'),\n",
       " (2011, 9, 'September 2011'),\n",
       " (2012, 1, 'January 2012'),\n",
       " (2011, 12, 'December 2011'),\n",
       " (2012, 5, 'May 2012'),\n",
       " (2011, 10, 'October 2011'),\n",
       " (2012, 4, 'April 2012'),\n",
       " (2011, 11, 'November 2011'),\n",
       " (2012, 7, 'July 2012'),\n",
       " (2012, 9, 'September 2012'),\n",
       " (2012, 2, 'February 2012'),\n",
       " (2012, 10, 'October 2012'),\n",
       " (2012, 12, 'December 2012'),\n",
       " (2012, 8, 'August 2012'),\n",
       " (2013, 1, 'January 2013'),\n",
       " (2013, 4, 'April 2013'),\n",
       " (2014, 4, 'April 2014'),\n",
       " (2013, 5, 'May 2013')]"
      ]
     },
     "execution_count": 13,
     "metadata": {},
     "output_type": "execute_result"
    }
   ],
   "source": [
    "[(year, month, date(year, month, 1).strftime('%B %Y')) for month, year in months]"
   ]
  },
  {
   "cell_type": "code",
   "execution_count": 5,
   "metadata": {},
   "outputs": [],
   "source": [
    "measurements = Measurement.objects.filter(date__gt=date(2011, 10, 1), date__lt=date(2011, 11, 1))"
   ]
  },
  {
   "cell_type": "code",
   "execution_count": 16,
   "metadata": {},
   "outputs": [
    {
     "data": {
      "text/plain": [
       "datetime.date(2011, 11, 1)"
      ]
     },
     "execution_count": 16,
     "metadata": {},
     "output_type": "execute_result"
    }
   ],
   "source": [
    "date(2011, 10, 1) + relativedelta(months=+1)"
   ]
  },
  {
   "cell_type": "code",
   "execution_count": 9,
   "metadata": {},
   "outputs": [
    {
     "data": {
      "text/plain": [
       "[OrderedDict([('id', None), ('number', 18), ('air_pressure_9am', 918.8), ('air_temp_9am', 67.082), ('avg_wind_direction_9am', 176.1), ('avg_wind_speed_9am', 4.8765292), ('max_wind_direction_9am', 183.4), ('max_wind_speed_9am', 5.5699806), ('rain_accumulation_9am', 0.0), ('rain_duration_9am', 0.0), ('relative_humidity_9am', 18.9), ('relative_humidity_3pm', 45.87), ('dataset_name', 'Irrelevant'), ('date', '2011-10-02')]), OrderedDict([('id', None), ('number', 19), ('air_pressure_9am', 922.04), ('air_temp_9am', 68.576), ('avg_wind_direction_9am', 58.3), ('avg_wind_speed_9am', 9.5517338), ('max_wind_direction_9am', 81.9), ('max_wind_speed_9am', 12.5716028), ('rain_accumulation_9am', 0.0), ('rain_duration_9am', 0.0), ('relative_humidity_9am', 7.54), ('relative_humidity_3pm', 7.74), ('dataset_name', 'Irrelevant'), ('date', '2011-10-03')]), OrderedDict([('id', None), ('number', 20), ('air_pressure_9am', 919.9922622), ('air_temp_9am', 62.96438312), ('avg_wind_direction_9am', 54.79909362), ('avg_wind_speed_9am', 12.68043574), ('max_wind_direction_9am', 74.25422349), ('max_wind_speed_9am', 15.45230581), ('rain_accumulation_9am', 0.0), ('rain_duration_9am', 0.0), ('relative_humidity_9am', 18.80951786), ('relative_humidity_3pm', 14.64990936), ('dataset_name', 'Irrelevant'), ('date', '2011-10-04')]), OrderedDict([('id', None), ('number', 21), ('air_pressure_9am', 917.23), ('air_temp_9am', 67.676), ('avg_wind_direction_9am', 177.8), ('avg_wind_speed_9am', 2.460634), ('max_wind_direction_9am', 93.2), ('max_wind_speed_9am', 3.2883018), ('rain_accumulation_9am', 0.0), ('rain_duration_9am', 0.0), ('relative_humidity_9am', 40.64), ('relative_humidity_3pm', 41.34), ('dataset_name', 'Irrelevant'), ('date', '2011-10-05')]), OrderedDict([('id', None), ('number', 22), ('air_pressure_9am', 921.125626), ('air_temp_9am', 68.81877189), ('avg_wind_direction_9am', 71.79909228), ('avg_wind_speed_9am', 2.576537767), ('max_wind_direction_9am', 95.47233356), ('max_wind_speed_9am', 3.487443587), ('rain_accumulation_9am', 0.0), ('rain_duration_9am', 0.0), ('relative_humidity_9am', 11.74220123), ('relative_humidity_3pm', 17.28116117), ('dataset_name', 'Irrelevant'), ('date', '2011-10-06')]), OrderedDict([('id', None), ('number', 23), ('air_pressure_9am', 920.35), ('air_temp_9am', 47.57), ('avg_wind_direction_9am', 192.1), ('avg_wind_speed_9am', 6.263432), ('max_wind_direction_9am', 205.7), ('max_wind_speed_9am', 7.605596), ('rain_accumulation_9am', 0.0), ('rain_duration_9am', 0.0), ('relative_humidity_9am', 54.55), ('relative_humidity_3pm', 66.0), ('dataset_name', 'Irrelevant'), ('date', '2011-10-07')]), OrderedDict([('id', None), ('number', 24), ('air_pressure_9am', 921.7882289), ('air_temp_9am', 71.65957221), ('avg_wind_direction_9am', 217.4055201), ('avg_wind_speed_9am', 1.946446506), ('max_wind_direction_9am', 253.758003), ('max_wind_speed_9am', 2.719711659), ('rain_accumulation_9am', 0.0), ('rain_duration_9am', 0.0), ('relative_humidity_9am', 11.19424977), ('relative_humidity_3pm', 16.33171563), ('dataset_name', 'Irrelevant'), ('date', '2011-10-08')]), OrderedDict([('id', None), ('number', 25), ('air_pressure_9am', 918.03), ('air_temp_9am', 50.666), ('avg_wind_direction_9am', 128.9), ('avg_wind_speed_9am', 2.5277422), ('max_wind_direction_9am', 117.4), ('max_wind_speed_9am', 4.0041226), ('rain_accumulation_9am', 0.0), ('rain_duration_9am', 0.0), ('relative_humidity_9am', 76.88), ('relative_humidity_3pm', 47.03), ('dataset_name', 'Irrelevant'), ('date', '2011-10-09')]), OrderedDict([('id', None), ('number', 26), ('air_pressure_9am', 914.49), ('air_temp_9am', 49.892), ('avg_wind_direction_9am', 163.0), ('avg_wind_speed_9am', 4.8541598), ('max_wind_direction_9am', 189.6), ('max_wind_speed_9am', 6.7331894), ('rain_accumulation_9am', 0.0), ('rain_duration_9am', 0.0), ('relative_humidity_9am', 92.1), ('relative_humidity_3pm', 90.99), ('dataset_name', 'Irrelevant'), ('date', '2011-10-10')]), OrderedDict([('id', None), ('number', 27), ('air_pressure_9am', 914.9), ('air_temp_9am', 78.62), ('avg_wind_direction_9am', 203.3), ('avg_wind_speed_9am', 1.8119214), ('max_wind_direction_9am', 240.0), ('max_wind_speed_9am', 2.7514362), ('rain_accumulation_9am', 0.0), ('rain_duration_9am', 220.0), ('relative_humidity_9am', 47.89), ('relative_humidity_3pm', 43.9), ('dataset_name', 'Irrelevant'), ('date', '2011-10-11')]), OrderedDict([('id', None), ('number', 28), ('air_pressure_9am', 915.84), ('air_temp_9am', 40.118), ('avg_wind_direction_9am', 171.9), ('avg_wind_speed_9am', 10.5359874), ('max_wind_direction_9am', 188.0), ('max_wind_speed_9am', 12.9295132), ('rain_accumulation_9am', 0.0), ('rain_duration_9am', 0.0), ('relative_humidity_9am', 86.43), ('relative_humidity_3pm', 84.39), ('dataset_name', 'Irrelevant'), ('date', '2011-10-12')]), OrderedDict([('id', None), ('number', 29), ('air_pressure_9am', 916.31), ('air_temp_9am', 45.428), ('avg_wind_direction_9am', 183.1), ('avg_wind_speed_9am', 8.3437862), ('max_wind_direction_9am', 194.6), ('max_wind_speed_9am', 10.0885994), ('rain_accumulation_9am', 0.0), ('rain_duration_9am', 0.0), ('relative_humidity_9am', 86.15), ('relative_humidity_3pm', 90.58), ('dataset_name', 'Irrelevant'), ('date', '2011-10-13')]), OrderedDict([('id', None), ('number', 30), ('air_pressure_9am', 919.35), ('air_temp_9am', 91.112), ('avg_wind_direction_9am', 96.4), ('avg_wind_speed_9am', 2.5277422), ('max_wind_direction_9am', 96.3), ('max_wind_speed_9am', 3.3777794), ('rain_accumulation_9am', 0.0), ('rain_duration_9am', 0.0), ('relative_humidity_9am', 25.62), ('relative_humidity_3pm', 35.69), ('dataset_name', 'Irrelevant'), ('date', '2011-10-14')]), OrderedDict([('id', None), ('number', 31), ('air_pressure_9am', 916.28), ('air_temp_9am', 55.544), ('avg_wind_direction_9am', 174.6), ('avg_wind_speed_9am', 2.5948504), ('max_wind_direction_9am', 191.7), ('max_wind_speed_9am', 3.3777794), ('rain_accumulation_9am', 0.0), ('rain_duration_9am', 0.0), ('relative_humidity_9am', 79.92), ('relative_humidity_3pm', 61.84), ('dataset_name', 'Irrelevant'), ('date', '2011-10-15')]), OrderedDict([('id', None), ('number', 32), ('air_pressure_9am', 918.7), ('air_temp_9am', 76.226), ('avg_wind_direction_9am', 184.6), ('avg_wind_speed_9am', 4.0936002), ('max_wind_direction_9am', 194.9), ('max_wind_speed_9am', 4.7423128), ('rain_accumulation_9am', 0.0), ('rain_duration_9am', 0.0), ('relative_humidity_9am', 19.17), ('relative_humidity_3pm', 31.97), ('dataset_name', 'Irrelevant'), ('date', '2011-10-16')]), OrderedDict([('id', None), ('number', 33), ('air_pressure_9am', 918.37), ('air_temp_9am', 63.914), ('avg_wind_direction_9am', 53.7), ('avg_wind_speed_9am', 14.4506324), ('max_wind_direction_9am', 72.1), ('max_wind_speed_9am', 17.0454828), ('rain_accumulation_9am', 0.0), ('rain_duration_9am', 0.0), ('relative_humidity_9am', 19.68), ('relative_humidity_3pm', 14.54), ('dataset_name', 'Irrelevant'), ('date', '2011-10-17')]), OrderedDict([('id', None), ('number', 34), ('air_pressure_9am', 923.6), ('air_temp_9am', 59.882), ('avg_wind_direction_9am', 192.8), ('avg_wind_speed_9am', 4.2949248), ('max_wind_direction_9am', 203.5), ('max_wind_speed_9am', 5.1897008), ('rain_accumulation_9am', 0.0), ('rain_duration_9am', 0.0), ('relative_humidity_9am', 22.47), ('relative_humidity_3pm', 14.26), ('dataset_name', 'Irrelevant'), ('date', '2011-10-18')]), OrderedDict([('id', None), ('number', 35), ('air_pressure_9am', 917.3), ('air_temp_9am', 85.082), ('avg_wind_direction_9am', 149.7), ('avg_wind_speed_9am', 2.013246), ('max_wind_direction_9am', 71.0), ('max_wind_speed_9am', 2.8632832), ('rain_accumulation_9am', 0.0), ('rain_duration_9am', 0.0), ('relative_humidity_9am', 32.02), ('relative_humidity_3pm', 29.84), ('dataset_name', 'Irrelevant'), ('date', '2011-10-19')]), OrderedDict([('id', None), ('number', 36), ('air_pressure_9am', 912.64), ('air_temp_9am', 53.996), ('avg_wind_direction_9am', 177.7), ('avg_wind_speed_9am', 6.822667), ('max_wind_direction_9am', 190.7), ('max_wind_speed_9am', 8.6345884), ('rain_accumulation_9am', 0.0), ('rain_duration_9am', 0.0), ('relative_humidity_9am', 89.77), ('relative_humidity_3pm', 55.57), ('dataset_name', 'Irrelevant'), ('date', '2011-10-20')]), OrderedDict([('id', None), ('number', 37), ('air_pressure_9am', 914.67), ('air_temp_9am', 64.166), ('avg_wind_direction_9am', 137.8), ('avg_wind_speed_9am', 2.125093), ('max_wind_direction_9am', 177.0), ('max_wind_speed_9am', 2.7290668), ('rain_accumulation_9am', 0.0), ('rain_duration_9am', 0.0), ('relative_humidity_9am', 58.57), ('relative_humidity_3pm', 39.96), ('dataset_name', 'Irrelevant'), ('date', '2011-10-21')]), OrderedDict([('id', None), ('number', 38), ('air_pressure_9am', 914.66), ('air_temp_9am', 50.36), ('avg_wind_direction_9am', 177.6), ('avg_wind_speed_9am', 8.5227414), ('max_wind_direction_9am', 186.3), ('max_wind_speed_9am', 10.0214912), ('rain_accumulation_9am', 0.0), ('rain_duration_9am', 20.0), ('relative_humidity_9am', 91.22), ('relative_humidity_3pm', 88.35), ('dataset_name', 'Irrelevant'), ('date', '2011-10-22')]), OrderedDict([('id', None), ('number', 39), ('air_pressure_9am', 921.9699513), ('air_temp_9am', 60.95534153), ('avg_wind_direction_9am', 164.621486), ('avg_wind_speed_9am', 1.664442299), ('max_wind_direction_9am', 195.7799675), ('max_wind_speed_9am', 2.367181133), ('rain_accumulation_9am', 0.0), ('rain_duration_9am', 0.0), ('relative_humidity_9am', 12.1096289), ('relative_humidity_3pm', 15.84956394), ('dataset_name', 'Irrelevant'), ('date', '2011-10-23')]), OrderedDict([('id', None), ('number', 40), ('air_pressure_9am', 919.3), ('air_temp_9am', 64.22), ('avg_wind_direction_9am', 182.2), ('avg_wind_speed_9am', 10.7596814), ('max_wind_direction_9am', 186.5), ('max_wind_speed_9am', 11.7886738), ('rain_accumulation_9am', 0.0), ('rain_duration_9am', 0.0), ('relative_humidity_9am', 34.63), ('relative_humidity_3pm', 61.32), ('dataset_name', 'Irrelevant'), ('date', '2011-10-24')]), OrderedDict([('id', None), ('number', 41), ('air_pressure_9am', 921.09), ('air_temp_9am', 68.666), ('avg_wind_direction_9am', 50.7), ('avg_wind_speed_9am', 14.204569), ('max_wind_direction_9am', 62.5), ('max_wind_speed_9am', 17.0454828), ('rain_accumulation_9am', 0.0), ('rain_duration_9am', 0.0), ('relative_humidity_9am', 17.58), ('relative_humidity_3pm', 14.24), ('dataset_name', 'Irrelevant'), ('date', '2011-10-25')]), OrderedDict([('id', None), ('number', 42), ('air_pressure_9am', 921.5), ('air_temp_9am', 49.55), ('avg_wind_direction_9am', 90.7), ('avg_wind_speed_9am', 1.7448132), ('max_wind_direction_9am', 112.3), ('max_wind_speed_9am', 2.684328), ('rain_accumulation_9am', 1.53), ('rain_duration_9am', 5420.0), ('relative_humidity_9am', 34.35), ('relative_humidity_3pm', 49.5), ('dataset_name', 'Irrelevant'), ('date', '2011-10-26')]), OrderedDict([('id', None), ('number', 43), ('air_pressure_9am', 914.9), ('air_temp_9am', 64.688), ('avg_wind_direction_9am', 174.6), ('avg_wind_speed_9am', 5.6594582), ('max_wind_direction_9am', 184.5), ('max_wind_speed_9am', 6.8674058), ('rain_accumulation_9am', 0.0), ('rain_duration_9am', 0.0), ('relative_humidity_9am', 43.37), ('relative_humidity_3pm', 49.39), ('dataset_name', 'Irrelevant'), ('date', '2011-10-27')]), OrderedDict([('id', None), ('number', 44), ('air_pressure_9am', 924.2), ('air_temp_9am', 68.882), ('avg_wind_direction_9am', 56.3), ('avg_wind_speed_9am', 9.8872748), ('max_wind_direction_9am', 69.0), ('max_wind_speed_9am', 11.8781514), ('rain_accumulation_9am', 0.0), ('rain_duration_9am', 0.0), ('relative_humidity_9am', 14.23), ('relative_humidity_3pm', 13.58), ('dataset_name', 'Irrelevant'), ('date', '2011-10-28')]), OrderedDict([('id', None), ('number', 45), ('air_pressure_9am', 914.54), ('air_temp_9am', 67.658), ('avg_wind_direction_9am', 170.2), ('avg_wind_speed_9am', 8.2543086), ('max_wind_direction_9am', 184.3), ('max_wind_speed_9am', 10.849159), ('rain_accumulation_9am', 0.0), ('rain_duration_9am', 0.0), ('relative_humidity_9am', 35.05), ('relative_humidity_3pm', 48.76), ('dataset_name', 'Irrelevant'), ('date', '2011-10-29')]), OrderedDict([('id', None), ('number', 46), ('air_pressure_9am', 917.9), ('air_temp_9am', 65.66), ('avg_wind_direction_9am', 183.7), ('avg_wind_speed_9am', 6.0621074), ('max_wind_direction_9am', 188.5), ('max_wind_speed_9am', 6.5094954), ('rain_accumulation_9am', 0.021), ('rain_duration_9am', 319.0), ('relative_humidity_9am', 74.22), ('relative_humidity_3pm', 69.19), ('dataset_name', 'Irrelevant'), ('date', '2011-10-30')]), OrderedDict([('id', None), ('number', 47), ('air_pressure_9am', 916.05), ('air_temp_9am', 87.188), ('avg_wind_direction_9am', 210.0), ('avg_wind_speed_9am', 1.565858), ('max_wind_direction_9am', 109.3), ('max_wind_speed_9am', 2.5948504), ('rain_accumulation_9am', 0.0), ('rain_duration_9am', 0.0), ('relative_humidity_9am', 12.88), ('relative_humidity_3pm', 14.83), ('dataset_name', 'Irrelevant'), ('date', '2011-10-31')])]"
      ]
     },
     "execution_count": 9,
     "metadata": {},
     "output_type": "execute_result"
    }
   ],
   "source": [
    "from hello.views import MeasurementSerializer\n",
    "MeasurementSerializer(measurements, many=True).data"
   ]
  }
 ],
 "metadata": {
  "kernelspec": {
   "display_name": "Django Shell-Plus",
   "language": "python",
   "name": "django_extensions"
  },
  "language_info": {
   "codemirror_mode": {
    "name": "ipython",
    "version": 3
   },
   "file_extension": ".py",
   "mimetype": "text/x-python",
   "name": "python",
   "nbconvert_exporter": "python",
   "pygments_lexer": "ipython3",
   "version": "3.8.5"
  }
 },
 "nbformat": 4,
 "nbformat_minor": 4
}
