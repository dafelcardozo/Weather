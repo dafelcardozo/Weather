{
 "cells": [
  {
   "cell_type": "code",
   "execution_count": 1,
   "metadata": {},
   "outputs": [],
   "source": [
    "from django.db.models import Case, IntegerField, Value, When"
   ]
  },
  {
   "cell_type": "code",
   "execution_count": 2,
   "metadata": {},
   "outputs": [],
   "source": [
    "import json\n",
    "import calendar"
   ]
  },
  {
   "cell_type": "code",
   "execution_count": 57,
   "metadata": {},
   "outputs": [],
   "source": [
    "month = 10\n",
    "year = 2011\n",
    "cursor = Measurement.objects.mongo_aggregate([\n",
    "    {\n",
    "      '$project': {\n",
    "          'year': {\n",
    "              '$year': \"$date\",\n",
    "          },\n",
    "          'month': {\n",
    "              '$month': '$date'\n",
    "          },\n",
    "          'avg_wind_direction_9am': '$avg_wind_direction_9am'\n",
    "      }\n",
    "   },\n",
    "    {\n",
    "         '$match': {\"year\": year, 'month': month}\n",
    "    },\n",
    "    {\n",
    "    '$bucket':{\n",
    "        'groupBy': '$avg_wind_direction_9am',\n",
    "        'boundaries': [n*45 - 3*45/2 for n in range(1, 9)],\n",
    "        'default':  -1000,\n",
    "        'output': {\n",
    "            'outputN': { '$sum': 1 }\n",
    "        }\n",
    "    }\n",
    "}])"
   ]
  },
  {
   "cell_type": "code",
   "execution_count": 58,
   "metadata": {},
   "outputs": [],
   "source": [
    "result = list(cursor)"
   ]
  },
  {
   "cell_type": "code",
   "execution_count": 59,
   "metadata": {},
   "outputs": [
    {
     "data": {
      "text/plain": [
       "[OrderedDict([('_id', 22.5), ('outputN', 5)]),\n",
       " OrderedDict([('_id', 67.5), ('outputN', 3)]),\n",
       " OrderedDict([('_id', 112.5), ('outputN', 3)]),\n",
       " OrderedDict([('_id', 157.5), ('outputN', 16)]),\n",
       " OrderedDict([('_id', 202.5), ('outputN', 4)])]"
      ]
     },
     "execution_count": 59,
     "metadata": {},
     "output_type": "execute_result"
    }
   ],
   "source": [
    "result"
   ]
  },
  {
   "cell_type": "code",
   "execution_count": 60,
   "metadata": {},
   "outputs": [],
   "source": [
    "result = {r['_id']:r['outputN'] for r in result}"
   ]
  },
  {
   "cell_type": "code",
   "execution_count": 61,
   "metadata": {},
   "outputs": [
    {
     "data": {
      "text/plain": [
       "31"
      ]
     },
     "execution_count": 61,
     "metadata": {},
     "output_type": "execute_result"
    }
   ],
   "source": [
    "sum(result.values())"
   ]
  },
  {
   "cell_type": "code",
   "execution_count": 7,
   "metadata": {},
   "outputs": [
    {
     "data": {
      "text/plain": [
       "[-22.5, 22.5, 67.5, 112.5, 157.5, 202.5, 247.5, 292.5]"
      ]
     },
     "execution_count": 7,
     "metadata": {},
     "output_type": "execute_result"
    }
   ],
   "source": [
    "[n*45 - 3*45/2 for n in range(1, 9)]"
   ]
  },
  {
   "cell_type": "code",
   "execution_count": 8,
   "metadata": {},
   "outputs": [],
   "source": [
    "from datetime import date, datetime, timedelta"
   ]
  },
  {
   "cell_type": "code",
   "execution_count": 9,
   "metadata": {},
   "outputs": [
    {
     "data": {
      "text/plain": [
       "datetime.timedelta(days=1)"
      ]
     },
     "execution_count": 9,
     "metadata": {},
     "output_type": "execute_result"
    }
   ],
   "source": [
    "timedelta(days=1)"
   ]
  },
  {
   "cell_type": "code",
   "execution_count": 10,
   "metadata": {},
   "outputs": [
    {
     "data": {
      "text/plain": [
       "datetime.date(2011, 9, 15)"
      ]
     },
     "execution_count": 10,
     "metadata": {},
     "output_type": "execute_result"
    }
   ],
   "source": [
    "date(2011, 9, 14) + timedelta(days=1)"
   ]
  },
  {
   "cell_type": "code",
   "execution_count": 11,
   "metadata": {},
   "outputs": [],
   "source": [
    "cursor = Measurement.objects.mongo_aggregate([{\n",
    "    '$group': {\n",
    "        '_id': {'month': {'$month': \"$date\"}, 'year': {'$year':'$date'}},\n",
    "        'count_measurements': {'$sum': 1}\n",
    "    }\n",
    "}])"
   ]
  },
  {
   "cell_type": "code",
   "execution_count": 12,
   "metadata": {},
   "outputs": [],
   "source": [
    "months = [(m['_id']['month'], m['_id']['year']) for m in cursor]"
   ]
  },
  {
   "cell_type": "code",
   "execution_count": 13,
   "metadata": {},
   "outputs": [
    {
     "data": {
      "text/plain": [
       "[(2014, 9, 'September 2014'),\n",
       " (2014, 8, 'August 2014'),\n",
       " (2014, 7, 'July 2014'),\n",
       " (2014, 6, 'June 2014'),\n",
       " (2014, 3, 'March 2014'),\n",
       " (2014, 2, 'February 2014'),\n",
       " (2014, 1, 'January 2014'),\n",
       " (2013, 12, 'December 2013'),\n",
       " (2013, 11, 'November 2013'),\n",
       " (2013, 9, 'September 2013'),\n",
       " (2013, 8, 'August 2013'),\n",
       " (2013, 7, 'July 2013'),\n",
       " (2012, 3, 'March 2012'),\n",
       " (2013, 6, 'June 2013'),\n",
       " (2012, 11, 'November 2012'),\n",
       " (2013, 10, 'October 2013'),\n",
       " (2013, 2, 'February 2013'),\n",
       " (2013, 3, 'March 2013'),\n",
       " (2014, 5, 'May 2014'),\n",
       " (2012, 6, 'June 2012'),\n",
       " (2011, 9, 'September 2011'),\n",
       " (2012, 1, 'January 2012'),\n",
       " (2011, 12, 'December 2011'),\n",
       " (2012, 5, 'May 2012'),\n",
       " (2011, 10, 'October 2011'),\n",
       " (2012, 4, 'April 2012'),\n",
       " (2011, 11, 'November 2011'),\n",
       " (2012, 7, 'July 2012'),\n",
       " (2012, 9, 'September 2012'),\n",
       " (2012, 2, 'February 2012'),\n",
       " (2012, 10, 'October 2012'),\n",
       " (2012, 12, 'December 2012'),\n",
       " (2012, 8, 'August 2012'),\n",
       " (2013, 1, 'January 2013'),\n",
       " (2013, 4, 'April 2013'),\n",
       " (2014, 4, 'April 2014'),\n",
       " (2013, 5, 'May 2013')]"
      ]
     },
     "execution_count": 13,
     "metadata": {},
     "output_type": "execute_result"
    }
   ],
   "source": [
    "[(year, month, date(year, month, 1).strftime('%B %Y')) for month, year in months]"
   ]
  },
  {
   "cell_type": "code",
   "execution_count": 14,
   "metadata": {},
   "outputs": [],
   "source": [
    "measurements = Measurement.objects.filter(date__gt=date(2011, 10, 1), date__lt=date(2011, 11, 1)).count()"
   ]
  },
  {
   "cell_type": "code",
   "execution_count": 15,
   "metadata": {},
   "outputs": [],
   "source": [
    "from dateutil.relativedelta import relativedelta"
   ]
  },
  {
   "cell_type": "code",
   "execution_count": 16,
   "metadata": {},
   "outputs": [
    {
     "data": {
      "text/plain": [
       "datetime.date(2011, 11, 1)"
      ]
     },
     "execution_count": 16,
     "metadata": {},
     "output_type": "execute_result"
    }
   ],
   "source": [
    "date(2011, 10, 1) + relativedelta(months=+1)"
   ]
  },
  {
   "cell_type": "code",
   "execution_count": 17,
   "metadata": {},
   "outputs": [
    {
     "data": {
      "text/plain": [
       "MeasurementSerializer(30):\n",
       "    air_pressure_9am = FloatField()\n",
       "    air_temp_9am = FloatField()\n",
       "    avg_wind_direction_9am = FloatField()\n",
       "    avg_wind_speed_9am = FloatField()\n",
       "    max_wind_direction_9am = FloatField()\n",
       "    max_wind_speed_9am = FloatField()\n",
       "    rain_accumulation_9am = FloatField()\n",
       "    rain_duration_9am = FloatField()\n",
       "    relative_humidity_9am = FloatField()\n",
       "    relative_humidity_3pm = FloatField()\n",
       "    dataset_name = CharField()\n",
       "    number = IntegerField()\n",
       "    date = DateField()"
      ]
     },
     "execution_count": 17,
     "metadata": {},
     "output_type": "execute_result"
    }
   ],
   "source": [
    "from hello.views import MeasurementSerializer\n",
    "MeasurementSerializer(measurements)"
   ]
  }
 ],
 "metadata": {
  "kernelspec": {
   "display_name": "Django Shell-Plus",
   "language": "python",
   "name": "django_extensions"
  },
  "language_info": {
   "codemirror_mode": {
    "name": "ipython",
    "version": 3
   },
   "file_extension": ".py",
   "mimetype": "text/x-python",
   "name": "python",
   "nbconvert_exporter": "python",
   "pygments_lexer": "ipython3",
   "version": "3.8.5"
  }
 },
 "nbformat": 4,
 "nbformat_minor": 4
}
